{
 "cells": [
  {
   "cell_type": "code",
   "execution_count": 1,
   "metadata": {},
   "outputs": [],
   "source": [
    "import numpy as np\n",
    "import scipy.linalg as linalg"
   ]
  },
  {
   "cell_type": "code",
   "execution_count": 2,
   "metadata": {},
   "outputs": [],
   "source": [
    "# random seed for reproducible results\n",
    "np.random.seed(1)"
   ]
  },
  {
   "cell_type": "code",
   "execution_count": 17,
   "metadata": {},
   "outputs": [],
   "source": [
    "my_data = np.genfromtxt('wine_data.csv', delimiter=',')\n",
    "n_train = 100\n",
    "\n",
    "np.random.shuffle(my_data)  # shuffle datataset\n",
    "trainingData = my_data[:n_train, 1:]  # training data\n",
    "trainingLabels = my_data[:n_train, 0]  # class labels of training data\n",
    "\n",
    "testData = my_data[n_train:, 1:]  # training data\n",
    "testLabels = my_data[n_train:, 0]  # class labels of training data"
   ]
  },
  {
   "cell_type": "code",
   "execution_count": 18,
   "metadata": {},
   "outputs": [
    {
     "data": {
      "text/plain": [
       "array([3., 3., 3., 3., 3., 3., 3., 3., 3., 3., 3., 3., 3., 3., 3., 3., 3.,\n",
       "       3., 3., 3., 3., 3., 3., 3., 3., 3., 3.])"
      ]
     },
     "execution_count": 18,
     "metadata": {},
     "output_type": "execute_result"
    }
   ],
   "source": [
    "trainingLabels[trainingLabels==3]"
   ]
  },
  {
   "cell_type": "code",
   "execution_count": 19,
   "metadata": {},
   "outputs": [
    {
     "data": {
      "text/plain": [
       "(100,)"
      ]
     },
     "execution_count": 19,
     "metadata": {},
     "output_type": "execute_result"
    }
   ],
   "source": [
    "trainingLabels.shape"
   ]
  },
  {
   "cell_type": "code",
   "execution_count": 28,
   "metadata": {},
   "outputs": [],
   "source": [
    "train_temp_label=trainingLabels.reshape(-1,1)"
   ]
  },
  {
   "cell_type": "code",
   "execution_count": 33,
   "metadata": {},
   "outputs": [],
   "source": [
    "index=np.where(train_temp_label==3)[0]"
   ]
  },
  {
   "cell_type": "code",
   "execution_count": 51,
   "metadata": {},
   "outputs": [
    {
     "data": {
      "text/plain": [
       "27"
      ]
     },
     "execution_count": 51,
     "metadata": {},
     "output_type": "execute_result"
    }
   ],
   "source": [
    "np.where(train_temp_label==3)[0].shape[0]"
   ]
  },
  {
   "cell_type": "code",
   "execution_count": 11,
   "metadata": {},
   "outputs": [
    {
     "data": {
      "text/plain": [
       "(100, 13)"
      ]
     },
     "execution_count": 11,
     "metadata": {},
     "output_type": "execute_result"
    }
   ],
   "source": [
    "trainingData.shape"
   ]
  },
  {
   "cell_type": "code",
   "execution_count": 45,
   "metadata": {},
   "outputs": [
    {
     "data": {
      "text/plain": [
       "(27, 27)"
      ]
     },
     "execution_count": 45,
     "metadata": {},
     "output_type": "execute_result"
    }
   ],
   "source": [
    "((trainingData[index]-np.mean(trainingData[index],axis=0))@(trainingData[index]-np.mean(trainingData[index],axis=0)).T).shape"
   ]
  },
  {
   "cell_type": "code",
   "execution_count": 40,
   "metadata": {},
   "outputs": [
    {
     "data": {
      "text/plain": [
       "array([1.30582e+01, 2.35840e+00, 2.37700e+00, 1.95610e+01, 9.97600e+01,\n",
       "       2.25540e+00, 2.00590e+00, 3.69900e-01, 1.57460e+00, 5.03440e+00,\n",
       "       9.50460e-01, 2.61280e+00, 7.56210e+02])"
      ]
     },
     "execution_count": 40,
     "metadata": {},
     "output_type": "execute_result"
    }
   ],
   "source": [
    "np.mean(trainingData,axis=0)"
   ]
  },
  {
   "cell_type": "code",
   "execution_count": 46,
   "metadata": {},
   "outputs": [],
   "source": [
    "a=[1,2,3]"
   ]
  },
  {
   "cell_type": "code",
   "execution_count": 62,
   "metadata": {},
   "outputs": [],
   "source": [
    "X=trainingData\n",
    "Y=train_temp_label"
   ]
  },
  {
   "cell_type": "code",
   "execution_count": 92,
   "metadata": {},
   "outputs": [
    {
     "name": "stdout",
     "output_type": "stream",
     "text": [
      "(13, 13)\n",
      "(13, 13)\n"
     ]
    }
   ],
   "source": [
    "classLabels = np.unique(Y)  # different class labels on the dataset\n",
    "classNum = len(classLabels)\n",
    "datanum, dim = X.shape  # dimensions of the dataset\n",
    "totalMean = np.mean(X, 0)  # total mean of the data\n",
    "s_w=[]\n",
    "s_b=[]\n",
    "mean_class=[]\n",
    "\n",
    "\n",
    "\n",
    "for i in range(classNum):\n",
    "        index=np.where(Y==(i+1))[0]\n",
    "        mean=np.mean(X[index],axis=0)\n",
    "        mean_class.append(mean)\n",
    "        cov=np.cov(X[index],rowvar=False)\n",
    "        s_w.append(cov)\n",
    "\n",
    "cov_total=np.cov(X,rowvar=False)\n",
    "\n",
    "Sw=sum(s_w)\n",
    "\n",
    "Sb=cov_total-Sw\n",
    "\n",
    "\n",
    "        \n"
   ]
  },
  {
   "cell_type": "code",
   "execution_count": 216,
   "metadata": {},
   "outputs": [],
   "source": [
    "def my_LDA(X, Y):\n",
    "    \"\"\"\n",
    "    Train a LDA classifier from the training set\n",
    "    X: training data\n",
    "    Y: class labels of training data\n",
    "\n",
    "    \"\"\"    \n",
    "    classLabels = np.unique(Y)  # different class labels on the dataset\n",
    "    classNum = len(classLabels)\n",
    "    datanum, dim = X.shape  # dimensions of the dataset\n",
    "    totalMean = np.mean(X, 0)  # total mean of the data\n",
    "\n",
    "    # ====================== YOUR CODE HERE ======================\n",
    "    # Instructions: Implement the LDA technique, following the\n",
    "    # steps given in the pseudocode on the assignment.\n",
    "    # The function should return the projection matrix W,\n",
    "    # the centroid vector for each class projected to the new\n",
    "    # space defined by W and the projected data X_lda.\n",
    "    \n",
    "    s_w=[]\n",
    "    s_b=[]\n",
    "    mean_class=[]\n",
    "    \n",
    "    projected_centroid=[]\n",
    "    \n",
    "    for i in range(classNum):\n",
    "        index=np.where(Y==(i+1))[0]\n",
    "        mean=np.mean(X[index],axis=0)\n",
    "        mean_class.append(mean)\n",
    "        cov=np.cov(X[index],rowvar=False)* index.shape[0]\n",
    "        print(index.shape[0])\n",
    "        s_w.append(cov)\n",
    "        \n",
    "\n",
    "    cov_total=np.cov(X,rowvar=False)\n",
    "\n",
    "    Sw=sum(s_w)\n",
    "\n",
    "    Sb=cov_total-Sw\n",
    "    \n",
    "    prod=(np.linalg.inv(Sw))@Sb\n",
    "    \n",
    "    eig_val,eig_vec=np.linalg.eig(prod)\n",
    "    \n",
    "    sort_index=eig_val.argsort()[::-1]\n",
    "    \n",
    "    print(eig_vec.shape)\n",
    "    \n",
    "    print(eig_vec[:,sort_index].shape)\n",
    "    \n",
    "    W=eig_vec[:,sort_index][:,:classNum]\n",
    "    \n",
    "    X_lda=X@W\n",
    "    \n",
    "    \n",
    "    for i in mean_class:\n",
    "        projected_centroid.append(i@W)\n",
    "    \n",
    "    \n",
    "        \n",
    "    \n",
    "        \n",
    "        \n",
    "        \n",
    "        \n",
    "\n",
    "\n",
    "    # =============================================================\n",
    "\n",
    "    return W, projected_centroid, X_lda"
   ]
  },
  {
   "cell_type": "code",
   "execution_count": 217,
   "metadata": {},
   "outputs": [
    {
     "name": "stdout",
     "output_type": "stream",
     "text": [
      "32\n",
      "41\n",
      "27\n",
      "(13, 13)\n",
      "(13, 13)\n"
     ]
    }
   ],
   "source": [
    "# training LDA classifier\n",
    "W, projected_centroid, X_lda = my_LDA(trainingData, train_temp_label)"
   ]
  },
  {
   "cell_type": "code",
   "execution_count": 218,
   "metadata": {},
   "outputs": [
    {
     "data": {
      "text/plain": [
       "(13, 3)"
      ]
     },
     "execution_count": 218,
     "metadata": {},
     "output_type": "execute_result"
    }
   ],
   "source": [
    "W.shape"
   ]
  },
  {
   "cell_type": "code",
   "execution_count": 219,
   "metadata": {},
   "outputs": [
    {
     "data": {
      "text/plain": [
       "3"
      ]
     },
     "execution_count": 219,
     "metadata": {},
     "output_type": "execute_result"
    }
   ],
   "source": [
    "len(projected_centroid)"
   ]
  },
  {
   "cell_type": "code",
   "execution_count": 220,
   "metadata": {},
   "outputs": [
    {
     "data": {
      "text/plain": [
       "array([-4.99172157,  4.00344543,  0.29987038])"
      ]
     },
     "execution_count": 220,
     "metadata": {},
     "output_type": "execute_result"
    }
   ],
   "source": [
    "projected_centroid[0]"
   ]
  },
  {
   "cell_type": "code",
   "execution_count": 221,
   "metadata": {},
   "outputs": [
    {
     "data": {
      "text/plain": [
       "(100, 3)"
      ]
     },
     "execution_count": 221,
     "metadata": {},
     "output_type": "execute_result"
    }
   ],
   "source": [
    "X_lda.shape"
   ]
  },
  {
   "cell_type": "code",
   "execution_count": 222,
   "metadata": {},
   "outputs": [
    {
     "data": {
      "text/plain": [
       "0"
      ]
     },
     "execution_count": 222,
     "metadata": {},
     "output_type": "execute_result"
    }
   ],
   "source": [
    "a.index(min(a))"
   ]
  },
  {
   "cell_type": "code",
   "execution_count": 223,
   "metadata": {},
   "outputs": [
    {
     "name": "stdout",
     "output_type": "stream",
     "text": [
      "[-2.80644165  3.06555995 -0.30665441]\n",
      "[-1.37919401  4.04221295  0.4119284 ]\n",
      "[-1.2295032   3.79790907  0.36515443]\n",
      "[-2.25268068  3.3077336   0.26868525]\n",
      "[-3.60738804  2.97474152  0.31550695]\n",
      "[-1.0642116   4.47891402  0.49907672]\n",
      "[-2.87253252  3.0513767   0.51889649]\n",
      "[-2.03981918  4.03219592  0.38459763]\n",
      "[-3.23686126  2.90535997  0.45015695]\n",
      "[-2.68954579  3.50811063 -0.36261774]\n",
      "[-3.72906343  2.6932619   0.16364734]\n",
      "[-4.02722656  3.73369951  0.32789504]\n",
      "[-5.20117662  4.13668787  0.39010984]\n",
      "[-1.20216805  4.19084856  0.30669929]\n",
      "[-2.21128761  3.91960071  0.14616928]\n",
      "[-0.89625514  4.37652103  0.34055336]\n",
      "[-2.47804275  4.19269752  0.35189537]\n",
      "[-1.53592162  4.18009435  0.20073119]\n",
      "[-5.44643379  4.33673344  0.28498859]\n",
      "[-3.85972646  3.06346881  0.47878146]\n",
      "[-4.91585104  3.81945306  0.30699823]\n",
      "[-3.36925229  2.9074005   0.1962937 ]\n",
      "[-2.98192554  3.04221559  0.61844713]\n",
      "[-3.43889111  3.27096937  0.48495213]\n",
      "[-3.25952768  2.94226085  0.4660006 ]\n",
      "[-5.61217971  4.35505696  0.39520054]\n",
      "[-5.33368036  3.8345491   0.24603686]\n",
      "[-4.92209345  4.0467939   0.23068825]\n",
      "[-4.72292429  3.92359632  0.39712145]\n",
      "[-5.07606632  4.12598059  0.40714564]\n",
      "[-1.58190702  4.07664546  0.37323873]\n",
      "[-3.16023292  2.82015589  0.1362762 ]\n",
      "[-4.75727651  4.02646099  0.32224538]\n",
      "[-3.1017569   2.8787013   0.76794025]\n",
      "[-1.05214402  4.27116984  0.14861044]\n",
      "[-3.53599613  2.80481564  0.68720082]\n",
      "[-3.44639725  3.37490733  0.47845761]\n",
      "[-3.32883947  3.00107879  0.70470706]\n",
      "[-3.11350859  2.97870225  0.3284467 ]\n",
      "[-3.98205821  3.6695081   0.43853465]\n",
      "[-3.86212983  2.94706325 -0.72286231]\n",
      "[-2.978649    3.24615541  0.53018088]\n",
      "[-3.07577635  2.91626605  0.26658848]\n",
      "[-1.37483958  3.93803395  0.37922869]\n",
      "[-5.2717414   4.15299989  0.5622068 ]\n",
      "[-5.33062272  4.10953534  0.34933953]\n",
      "[-5.05992367  4.06796688  0.29921047]\n",
      "[-4.615816    3.86363255  0.19103826]\n",
      "[-2.56263745  2.98015132  0.3339314 ]\n",
      "[-4.44704386  3.83816833  0.23931622]\n",
      "[-3.57135452  2.80721183  0.16592051]\n",
      "[-4.74963468  3.8677509   0.15812381]\n",
      "[-3.78576773  3.20004507  0.22413281]\n",
      "[-2.74772807  3.45157619  0.51366507]\n",
      "[-3.17058346  2.74233757 -0.9686793 ]\n",
      "[-1.99132702  3.69517652  0.19386451]\n",
      "[-2.93672369  3.32546391  0.56887326]\n",
      "[-3.67669176  2.9768544   0.09070055]\n",
      "[-1.19865945  4.14390835  0.35475287]\n",
      "[-5.93780379  3.94199782  0.34639646]\n",
      "[-3.71613626  3.10593426  0.41356215]\n",
      "[-1.73418579  3.83440693  0.32072132]\n",
      "[-5.15176893  4.35827501  0.23426585]\n",
      "[-1.78265653  3.6972231   0.44060375]\n",
      "[-3.3098401   2.37991141  0.15307217]\n",
      "[-3.68497658  3.09588822 -0.06822074]\n",
      "[-4.62682405  3.96129716  0.19120752]\n",
      "[-5.31725144  4.53158619  0.29617768]\n",
      "[-1.81950506  3.85736799  0.25519833]\n",
      "[-1.22525634  4.39660936  0.06358659]\n",
      "[-2.08287202  4.20106523  0.08811973]\n",
      "[-5.89372758  4.28512262  0.08589928]\n",
      "[-4.71241929  3.73693309  0.28830622]\n",
      "[-3.38841355  3.18700329  0.63059031]\n",
      "[-5.40935322  3.95764188  0.11812436]\n",
      "[-5.31584174  3.98542592  0.2541922 ]\n",
      "[-4.80827095  3.90780109  0.38477102]\n",
      "[-4.36870631  2.82301099  1.3337172 ]\n",
      "[-4.84328129  4.21622775  0.31629743]\n",
      "[-5.32169913  3.97326475  0.13620471]\n",
      "[-1.30216551  3.86659707  0.19091444]\n",
      "[-1.99091322  3.7876209   0.12337413]\n",
      "[-3.43238368  3.28459358  0.19363834]\n",
      "[-2.2972896   4.05794465  0.37425006]\n",
      "[-1.22034105  4.18527654  0.29358122]\n",
      "[-4.16466401  3.68569389  0.3917044 ]\n",
      "[-2.89837055  3.37311103  0.05755377]\n",
      "[-1.65896252  4.51408352  0.37866512]\n",
      "[-3.54589306  2.91663101  0.49053984]\n",
      "[-4.37413022  3.73824499  0.49941663]\n",
      "[-3.56229944  2.89486188  0.88317807]\n",
      "[-5.38918957  3.74532952  0.3589182 ]\n",
      "[-1.36145835  4.20159215  0.37212413]\n",
      "[-4.04871295  3.12410838  0.33418673]\n",
      "[-1.18301836  3.9260395   0.42113905]\n",
      "[-4.9971157   4.17683848  0.14777066]\n",
      "[-3.16186404  2.6706531   0.25109844]\n",
      "[-3.57784115  2.93948104 -0.48626513]\n",
      "[-2.60861183  2.82489887  0.71331214]\n",
      "[-1.83165316  3.91977201  0.32080208]\n"
     ]
    }
   ],
   "source": [
    "for i in X_lda:\n",
    "    print(i)"
   ]
  },
  {
   "cell_type": "code",
   "execution_count": 224,
   "metadata": {},
   "outputs": [],
   "source": [
    "def predict(X, projected_centroid, W):\n",
    "    \"\"\"Apply the trained LDA classifier on the test data\n",
    "    X: test data\n",
    "    projected_centroid: centroid vectors of each class projected to the new space\n",
    "    W: projection matrix computed by LDA\n",
    "    \"\"\"\n",
    "\n",
    "    # Project test data onto the LDA space defined by W\n",
    "    projected_data = np.dot(X, W)\n",
    "\n",
    "    # ====================== YOUR CODE HERE ======================\n",
    "    # Instructions: Fill in the code to implement the classification\n",
    "    # part of LDA. Follow the steps given in the assigment.\n",
    "\n",
    "    # =============================================================\n",
    "\n",
    "    # Return the predicted labels of the test data X\n",
    "    \n",
    "    label=[]\n",
    "    \n",
    "    for i in projected_data:\n",
    "        temp=[]\n",
    "        for j in projected_centroid:\n",
    "            dist=np.linalg.norm(i-j)\n",
    "            temp.append(dist)\n",
    "        label.append(temp.index(min(temp)))\n",
    "            \n",
    "    return label"
   ]
  },
  {
   "cell_type": "code",
   "execution_count": 225,
   "metadata": {},
   "outputs": [
    {
     "name": "stdout",
     "output_type": "stream",
     "text": [
      "[2, 1, 1, 2, 2, 3, 3, 1, 2, 3, 3, 3, 1, 2, 3, 1, 2, 3, 3, 3, 2, 3, 3, 2, 2, 1, 2, 2, 2, 1, 2, 1, 1, 1, 1, 3, 1, 2, 2, 2, 1, 2, 1, 3, 2, 2, 3, 2, 1, 1, 1, 1, 1, 1, 2, 2, 1, 1, 2, 2, 3, 2, 1, 2, 2, 3, 3, 3, 2, 1, 3, 1, 2, 2, 1, 1, 2, 3]\n",
      "Accuracy of LDA: 98.717949\n"
     ]
    }
   ],
   "source": [
    "# Perform predictions for the test data\n",
    "predictedLabels = predict(testData, projected_centroid, W)\n",
    "\n",
    "predictedLabels = [label+1 for label in predictedLabels]\n",
    "print(predictedLabels)\n",
    "\n",
    "\n",
    "# Compute accuracy\n",
    "counter = 0\n",
    "for i in range(len(predictedLabels)):\n",
    "    if predictedLabels[i] == testLabels[i]:\n",
    "        counter += 1\n",
    "print('Accuracy of LDA: %f' % (counter / float(len(predictedLabels)) * 100.0))"
   ]
  },
  {
   "cell_type": "code",
   "execution_count": 1,
   "metadata": {},
   "outputs": [],
   "source": [
    "from skopt import BayesSearchCV"
   ]
  }
 ],
 "metadata": {
  "kernelspec": {
   "display_name": "Python 3",
   "language": "python",
   "name": "python3"
  },
  "language_info": {
   "codemirror_mode": {
    "name": "ipython",
    "version": 3
   },
   "file_extension": ".py",
   "mimetype": "text/x-python",
   "name": "python",
   "nbconvert_exporter": "python",
   "pygments_lexer": "ipython3",
   "version": "3.9.13"
  }
 },
 "nbformat": 4,
 "nbformat_minor": 2
}
